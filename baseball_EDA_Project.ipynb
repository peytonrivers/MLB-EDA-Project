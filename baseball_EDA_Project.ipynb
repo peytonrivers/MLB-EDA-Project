{
 "cells": [
  {
   "cell_type": "markdown",
   "id": "83e6a70c-315a-4c24-bb92-ec19e470cd39",
   "metadata": {},
   "source": [
    "# EDA Project on MLB"
   ]
  },
  {
   "cell_type": "markdown",
   "id": "c34a204f-00ad-4d1f-81be-ed980c4e3203",
   "metadata": {},
   "source": [
    "#### In this project, I analyze the average number of home runs per player across MLB teams during the 2023 season. The analysis helps identify which teams fielded the most power hitters on average, visualized through bar charts for clearer comparison."
   ]
  },
  {
   "cell_type": "code",
   "execution_count": 178,
   "id": "0d3b5b03-9cf3-4751-a875-32f54cac30c0",
   "metadata": {},
   "outputs": [],
   "source": [
    "# Importing necessary libraries\n",
    "import pandas as pd\n",
    "import numpy as np\n",
    "import matplotlib.pyplot as plt\n",
    "import seaborn as sns\n",
    "import os"
   ]
  },
  {
   "cell_type": "code",
   "execution_count": 179,
   "id": "67e9035b-4c87-4fd1-9c43-cd61990a8668",
   "metadata": {
    "scrolled": true
   },
   "outputs": [
    {
     "data": {
      "text/html": [
       "<div>\n",
       "<style scoped>\n",
       "    .dataframe tbody tr th:only-of-type {\n",
       "        vertical-align: middle;\n",
       "    }\n",
       "\n",
       "    .dataframe tbody tr th {\n",
       "        vertical-align: top;\n",
       "    }\n",
       "\n",
       "    .dataframe thead th {\n",
       "        text-align: right;\n",
       "    }\n",
       "</style>\n",
       "<table border=\"1\" class=\"dataframe\">\n",
       "  <thead>\n",
       "    <tr style=\"text-align: right;\">\n",
       "      <th></th>\n",
       "      <th>Name</th>\n",
       "      <th>Team</th>\n",
       "      <th>G</th>\n",
       "      <th>AB</th>\n",
       "      <th>PA</th>\n",
       "      <th>H</th>\n",
       "      <th>1B</th>\n",
       "      <th>2B</th>\n",
       "      <th>3B</th>\n",
       "      <th>HR</th>\n",
       "      <th>...</th>\n",
       "      <th>CB%</th>\n",
       "      <th>CBv</th>\n",
       "      <th>CH%</th>\n",
       "      <th>CHv</th>\n",
       "      <th>SF%</th>\n",
       "      <th>SFv</th>\n",
       "      <th>Batting</th>\n",
       "      <th>Base Running</th>\n",
       "      <th>Fielding</th>\n",
       "      <th>WAR</th>\n",
       "    </tr>\n",
       "  </thead>\n",
       "  <tbody>\n",
       "    <tr>\n",
       "      <th>0</th>\n",
       "      <td>Zack Short</td>\n",
       "      <td>DET</td>\n",
       "      <td>112</td>\n",
       "      <td>221</td>\n",
       "      <td>253</td>\n",
       "      <td>45</td>\n",
       "      <td>29</td>\n",
       "      <td>9</td>\n",
       "      <td>0</td>\n",
       "      <td>7</td>\n",
       "      <td>...</td>\n",
       "      <td>0.073</td>\n",
       "      <td>79.1</td>\n",
       "      <td>0.071</td>\n",
       "      <td>84.8</td>\n",
       "      <td>0.006</td>\n",
       "      <td>86.8</td>\n",
       "      <td>-7.4</td>\n",
       "      <td>-0.6</td>\n",
       "      <td>-4.1</td>\n",
       "      <td>-0.2</td>\n",
       "    </tr>\n",
       "    <tr>\n",
       "      <th>1</th>\n",
       "      <td>Zack Gelof</td>\n",
       "      <td>OAK</td>\n",
       "      <td>69</td>\n",
       "      <td>270</td>\n",
       "      <td>300</td>\n",
       "      <td>72</td>\n",
       "      <td>37</td>\n",
       "      <td>20</td>\n",
       "      <td>1</td>\n",
       "      <td>14</td>\n",
       "      <td>...</td>\n",
       "      <td>0.100</td>\n",
       "      <td>79.8</td>\n",
       "      <td>0.123</td>\n",
       "      <td>85.5</td>\n",
       "      <td>0.018</td>\n",
       "      <td>85.6</td>\n",
       "      <td>11.9</td>\n",
       "      <td>3.3</td>\n",
       "      <td>2.5</td>\n",
       "      <td>2.9</td>\n",
       "    </tr>\n",
       "    <tr>\n",
       "      <th>2</th>\n",
       "      <td>Zach Remillard</td>\n",
       "      <td>CHW</td>\n",
       "      <td>54</td>\n",
       "      <td>147</td>\n",
       "      <td>160</td>\n",
       "      <td>37</td>\n",
       "      <td>29</td>\n",
       "      <td>7</td>\n",
       "      <td>0</td>\n",
       "      <td>1</td>\n",
       "      <td>...</td>\n",
       "      <td>0.092</td>\n",
       "      <td>79.8</td>\n",
       "      <td>0.078</td>\n",
       "      <td>84.4</td>\n",
       "      <td>0.010</td>\n",
       "      <td>85.2</td>\n",
       "      <td>-6.2</td>\n",
       "      <td>1.9</td>\n",
       "      <td>0.2</td>\n",
       "      <td>0.2</td>\n",
       "    </tr>\n",
       "    <tr>\n",
       "      <th>3</th>\n",
       "      <td>Zach Neto</td>\n",
       "      <td>LAA</td>\n",
       "      <td>84</td>\n",
       "      <td>289</td>\n",
       "      <td>329</td>\n",
       "      <td>65</td>\n",
       "      <td>39</td>\n",
       "      <td>17</td>\n",
       "      <td>0</td>\n",
       "      <td>9</td>\n",
       "      <td>...</td>\n",
       "      <td>0.094</td>\n",
       "      <td>80.9</td>\n",
       "      <td>0.043</td>\n",
       "      <td>86.1</td>\n",
       "      <td>0.026</td>\n",
       "      <td>87.0</td>\n",
       "      <td>-4.5</td>\n",
       "      <td>-0.4</td>\n",
       "      <td>0.8</td>\n",
       "      <td>1.1</td>\n",
       "    </tr>\n",
       "    <tr>\n",
       "      <th>4</th>\n",
       "      <td>Zach McKinstry</td>\n",
       "      <td>DET</td>\n",
       "      <td>148</td>\n",
       "      <td>464</td>\n",
       "      <td>518</td>\n",
       "      <td>107</td>\n",
       "      <td>73</td>\n",
       "      <td>21</td>\n",
       "      <td>4</td>\n",
       "      <td>9</td>\n",
       "      <td>...</td>\n",
       "      <td>0.096</td>\n",
       "      <td>80.0</td>\n",
       "      <td>0.130</td>\n",
       "      <td>86.3</td>\n",
       "      <td>0.025</td>\n",
       "      <td>87.3</td>\n",
       "      <td>-11.8</td>\n",
       "      <td>1.7</td>\n",
       "      <td>4.5</td>\n",
       "      <td>1.2</td>\n",
       "    </tr>\n",
       "  </tbody>\n",
       "</table>\n",
       "<p>5 rows × 105 columns</p>\n",
       "</div>"
      ],
      "text/plain": [
       "             Name Team    G   AB   PA    H  1B  2B  3B  HR  ...    CB%   CBv  \\\n",
       "0      Zack Short  DET  112  221  253   45  29   9   0   7  ...  0.073  79.1   \n",
       "1      Zack Gelof  OAK   69  270  300   72  37  20   1  14  ...  0.100  79.8   \n",
       "2  Zach Remillard  CHW   54  147  160   37  29   7   0   1  ...  0.092  79.8   \n",
       "3       Zach Neto  LAA   84  289  329   65  39  17   0   9  ...  0.094  80.9   \n",
       "4  Zach McKinstry  DET  148  464  518  107  73  21   4   9  ...  0.096  80.0   \n",
       "\n",
       "     CH%   CHv    SF%   SFv  Batting  Base Running  Fielding  WAR  \n",
       "0  0.071  84.8  0.006  86.8     -7.4          -0.6      -4.1 -0.2  \n",
       "1  0.123  85.5  0.018  85.6     11.9           3.3       2.5  2.9  \n",
       "2  0.078  84.4  0.010  85.2     -6.2           1.9       0.2  0.2  \n",
       "3  0.043  86.1  0.026  87.0     -4.5          -0.4       0.8  1.1  \n",
       "4  0.130  86.3  0.025  87.3    -11.8           1.7       4.5  1.2  \n",
       "\n",
       "[5 rows x 105 columns]"
      ]
     },
     "execution_count": 179,
     "metadata": {},
     "output_type": "execute_result"
    }
   ],
   "source": [
    "df = pd.read_csv('batting_2023_data.csv')\n",
    "df.head(5)"
   ]
  },
  {
   "cell_type": "code",
   "execution_count": 180,
   "id": "16077592-c674-44b3-9596-4039836dd8ff",
   "metadata": {},
   "outputs": [
    {
     "data": {
      "text/html": [
       "<div>\n",
       "<style scoped>\n",
       "    .dataframe tbody tr th:only-of-type {\n",
       "        vertical-align: middle;\n",
       "    }\n",
       "\n",
       "    .dataframe tbody tr th {\n",
       "        vertical-align: top;\n",
       "    }\n",
       "\n",
       "    .dataframe thead th {\n",
       "        text-align: right;\n",
       "    }\n",
       "</style>\n",
       "<table border=\"1\" class=\"dataframe\">\n",
       "  <thead>\n",
       "    <tr style=\"text-align: right;\">\n",
       "      <th></th>\n",
       "      <th>Name</th>\n",
       "      <th>Team</th>\n",
       "      <th>G</th>\n",
       "      <th>AB</th>\n",
       "      <th>PA</th>\n",
       "      <th>H</th>\n",
       "      <th>1B</th>\n",
       "      <th>2B</th>\n",
       "      <th>3B</th>\n",
       "      <th>HR</th>\n",
       "      <th>...</th>\n",
       "      <th>CB%</th>\n",
       "      <th>CBv</th>\n",
       "      <th>CH%</th>\n",
       "      <th>CHv</th>\n",
       "      <th>SF%</th>\n",
       "      <th>SFv</th>\n",
       "      <th>Batting</th>\n",
       "      <th>Base Running</th>\n",
       "      <th>Fielding</th>\n",
       "      <th>WAR</th>\n",
       "    </tr>\n",
       "  </thead>\n",
       "  <tbody>\n",
       "    <tr>\n",
       "      <th>456</th>\n",
       "      <td>Adley Rutschman</td>\n",
       "      <td>BAL</td>\n",
       "      <td>154</td>\n",
       "      <td>588</td>\n",
       "      <td>687</td>\n",
       "      <td>163</td>\n",
       "      <td>111</td>\n",
       "      <td>31</td>\n",
       "      <td>1</td>\n",
       "      <td>20</td>\n",
       "      <td>...</td>\n",
       "      <td>0.092</td>\n",
       "      <td>80.0</td>\n",
       "      <td>0.156</td>\n",
       "      <td>86.0</td>\n",
       "      <td>0.033</td>\n",
       "      <td>86.7</td>\n",
       "      <td>22.3</td>\n",
       "      <td>-3.0</td>\n",
       "      <td>5.1</td>\n",
       "      <td>5.1</td>\n",
       "    </tr>\n",
       "    <tr>\n",
       "      <th>457</th>\n",
       "      <td>Adam Frazier</td>\n",
       "      <td>BAL</td>\n",
       "      <td>141</td>\n",
       "      <td>412</td>\n",
       "      <td>455</td>\n",
       "      <td>99</td>\n",
       "      <td>63</td>\n",
       "      <td>21</td>\n",
       "      <td>2</td>\n",
       "      <td>13</td>\n",
       "      <td>...</td>\n",
       "      <td>0.073</td>\n",
       "      <td>80.0</td>\n",
       "      <td>0.107</td>\n",
       "      <td>86.6</td>\n",
       "      <td>0.030</td>\n",
       "      <td>86.0</td>\n",
       "      <td>-3.8</td>\n",
       "      <td>2.1</td>\n",
       "      <td>-12.0</td>\n",
       "      <td>0.3</td>\n",
       "    </tr>\n",
       "    <tr>\n",
       "      <th>458</th>\n",
       "      <td>Adam Duvall</td>\n",
       "      <td>BOS</td>\n",
       "      <td>92</td>\n",
       "      <td>320</td>\n",
       "      <td>353</td>\n",
       "      <td>79</td>\n",
       "      <td>32</td>\n",
       "      <td>24</td>\n",
       "      <td>2</td>\n",
       "      <td>21</td>\n",
       "      <td>...</td>\n",
       "      <td>0.096</td>\n",
       "      <td>80.4</td>\n",
       "      <td>0.076</td>\n",
       "      <td>85.0</td>\n",
       "      <td>0.025</td>\n",
       "      <td>85.1</td>\n",
       "      <td>6.6</td>\n",
       "      <td>3.0</td>\n",
       "      <td>-2.2</td>\n",
       "      <td>1.9</td>\n",
       "    </tr>\n",
       "    <tr>\n",
       "      <th>459</th>\n",
       "      <td>Aaron Judge</td>\n",
       "      <td>NYY</td>\n",
       "      <td>106</td>\n",
       "      <td>367</td>\n",
       "      <td>458</td>\n",
       "      <td>98</td>\n",
       "      <td>45</td>\n",
       "      <td>16</td>\n",
       "      <td>0</td>\n",
       "      <td>37</td>\n",
       "      <td>...</td>\n",
       "      <td>0.088</td>\n",
       "      <td>80.6</td>\n",
       "      <td>0.117</td>\n",
       "      <td>86.1</td>\n",
       "      <td>0.043</td>\n",
       "      <td>86.9</td>\n",
       "      <td>40.9</td>\n",
       "      <td>1.0</td>\n",
       "      <td>2.1</td>\n",
       "      <td>5.3</td>\n",
       "    </tr>\n",
       "    <tr>\n",
       "      <th>460</th>\n",
       "      <td>Aaron Hicks</td>\n",
       "      <td>BAL</td>\n",
       "      <td>93</td>\n",
       "      <td>269</td>\n",
       "      <td>312</td>\n",
       "      <td>68</td>\n",
       "      <td>50</td>\n",
       "      <td>9</td>\n",
       "      <td>1</td>\n",
       "      <td>8</td>\n",
       "      <td>...</td>\n",
       "      <td>0.132</td>\n",
       "      <td>80.3</td>\n",
       "      <td>0.177</td>\n",
       "      <td>86.1</td>\n",
       "      <td>0.044</td>\n",
       "      <td>86.3</td>\n",
       "      <td>3.5</td>\n",
       "      <td>3.2</td>\n",
       "      <td>-4.8</td>\n",
       "      <td>1.0</td>\n",
       "    </tr>\n",
       "  </tbody>\n",
       "</table>\n",
       "<p>5 rows × 105 columns</p>\n",
       "</div>"
      ],
      "text/plain": [
       "                Name Team    G   AB   PA    H   1B  2B  3B  HR  ...    CB%  \\\n",
       "456  Adley Rutschman  BAL  154  588  687  163  111  31   1  20  ...  0.092   \n",
       "457     Adam Frazier  BAL  141  412  455   99   63  21   2  13  ...  0.073   \n",
       "458      Adam Duvall  BOS   92  320  353   79   32  24   2  21  ...  0.096   \n",
       "459      Aaron Judge  NYY  106  367  458   98   45  16   0  37  ...  0.088   \n",
       "460      Aaron Hicks  BAL   93  269  312   68   50   9   1   8  ...  0.132   \n",
       "\n",
       "      CBv    CH%   CHv    SF%   SFv  Batting  Base Running  Fielding  WAR  \n",
       "456  80.0  0.156  86.0  0.033  86.7     22.3          -3.0       5.1  5.1  \n",
       "457  80.0  0.107  86.6  0.030  86.0     -3.8           2.1     -12.0  0.3  \n",
       "458  80.4  0.076  85.0  0.025  85.1      6.6           3.0      -2.2  1.9  \n",
       "459  80.6  0.117  86.1  0.043  86.9     40.9           1.0       2.1  5.3  \n",
       "460  80.3  0.177  86.1  0.044  86.3      3.5           3.2      -4.8  1.0  \n",
       "\n",
       "[5 rows x 105 columns]"
      ]
     },
     "execution_count": 180,
     "metadata": {},
     "output_type": "execute_result"
    }
   ],
   "source": [
    "df.tail()"
   ]
  },
  {
   "cell_type": "code",
   "execution_count": 181,
   "id": "0a3c9134-781d-42a2-bece-d1315c8649cc",
   "metadata": {},
   "outputs": [
    {
     "data": {
      "text/plain": [
       "Name            0\n",
       "Team            0\n",
       "G               0\n",
       "AB              0\n",
       "PA              0\n",
       "               ..\n",
       "SFv             0\n",
       "Batting         0\n",
       "Base Running    0\n",
       "Fielding        0\n",
       "WAR             0\n",
       "Length: 105, dtype: int64"
      ]
     },
     "execution_count": 181,
     "metadata": {},
     "output_type": "execute_result"
    }
   ],
   "source": [
    "df.isnull().sum()"
   ]
  },
  {
   "cell_type": "code",
   "execution_count": 182,
   "id": "edb7f4fa-f07f-45e0-a5b8-05141eb71dc0",
   "metadata": {},
   "outputs": [
    {
     "data": {
      "text/plain": [
       "0      False\n",
       "1      False\n",
       "2      False\n",
       "3      False\n",
       "4      False\n",
       "       ...  \n",
       "456    False\n",
       "457    False\n",
       "458    False\n",
       "459    False\n",
       "460    False\n",
       "Length: 461, dtype: bool"
      ]
     },
     "execution_count": 182,
     "metadata": {},
     "output_type": "execute_result"
    }
   ],
   "source": [
    "df.duplicated()"
   ]
  },
  {
   "cell_type": "code",
   "execution_count": 183,
   "id": "63e15d94-23c1-4297-bb1a-46fb97f3ed18",
   "metadata": {},
   "outputs": [
    {
     "data": {
      "text/plain": [
       "Name             object\n",
       "Team             object\n",
       "G                 int64\n",
       "AB                int64\n",
       "PA                int64\n",
       "                 ...   \n",
       "SFv             float64\n",
       "Batting         float64\n",
       "Base Running    float64\n",
       "Fielding        float64\n",
       "WAR             float64\n",
       "Length: 105, dtype: object"
      ]
     },
     "execution_count": 183,
     "metadata": {},
     "output_type": "execute_result"
    }
   ],
   "source": [
    "df.dtypes"
   ]
  },
  {
   "cell_type": "code",
   "execution_count": 184,
   "id": "c7f9a157-e11c-4dfe-9bd9-5492309b7c1a",
   "metadata": {},
   "outputs": [
    {
     "data": {
      "text/html": [
       "<div>\n",
       "<style scoped>\n",
       "    .dataframe tbody tr th:only-of-type {\n",
       "        vertical-align: middle;\n",
       "    }\n",
       "\n",
       "    .dataframe tbody tr th {\n",
       "        vertical-align: top;\n",
       "    }\n",
       "\n",
       "    .dataframe thead th {\n",
       "        text-align: right;\n",
       "    }\n",
       "</style>\n",
       "<table border=\"1\" class=\"dataframe\">\n",
       "  <thead>\n",
       "    <tr style=\"text-align: right;\">\n",
       "      <th></th>\n",
       "      <th>Name</th>\n",
       "      <th>Team</th>\n",
       "      <th>AB</th>\n",
       "      <th>PA</th>\n",
       "      <th>H</th>\n",
       "      <th>HR</th>\n",
       "      <th>SF</th>\n",
       "      <th>SH</th>\n",
       "      <th>GDP</th>\n",
       "      <th>SB</th>\n",
       "      <th>...</th>\n",
       "      <th>CTv</th>\n",
       "      <th>CBv</th>\n",
       "      <th>CH%</th>\n",
       "      <th>CHv</th>\n",
       "      <th>SF%</th>\n",
       "      <th>SFv</th>\n",
       "      <th>Batting</th>\n",
       "      <th>Base Running</th>\n",
       "      <th>Fielding</th>\n",
       "      <th>WAR</th>\n",
       "    </tr>\n",
       "  </thead>\n",
       "  <tbody>\n",
       "    <tr>\n",
       "      <th>0</th>\n",
       "      <td>Zack Short</td>\n",
       "      <td>DET</td>\n",
       "      <td>221</td>\n",
       "      <td>253</td>\n",
       "      <td>45</td>\n",
       "      <td>7</td>\n",
       "      <td>1</td>\n",
       "      <td>3</td>\n",
       "      <td>3</td>\n",
       "      <td>5</td>\n",
       "      <td>...</td>\n",
       "      <td>88.8</td>\n",
       "      <td>79.1</td>\n",
       "      <td>0.071</td>\n",
       "      <td>84.8</td>\n",
       "      <td>0.006</td>\n",
       "      <td>86.8</td>\n",
       "      <td>-7.4</td>\n",
       "      <td>-0.6</td>\n",
       "      <td>-4.1</td>\n",
       "      <td>-0.2</td>\n",
       "    </tr>\n",
       "    <tr>\n",
       "      <th>1</th>\n",
       "      <td>Zack Gelof</td>\n",
       "      <td>OAK</td>\n",
       "      <td>270</td>\n",
       "      <td>300</td>\n",
       "      <td>72</td>\n",
       "      <td>14</td>\n",
       "      <td>1</td>\n",
       "      <td>0</td>\n",
       "      <td>5</td>\n",
       "      <td>14</td>\n",
       "      <td>...</td>\n",
       "      <td>88.2</td>\n",
       "      <td>79.8</td>\n",
       "      <td>0.123</td>\n",
       "      <td>85.5</td>\n",
       "      <td>0.018</td>\n",
       "      <td>85.6</td>\n",
       "      <td>11.9</td>\n",
       "      <td>3.3</td>\n",
       "      <td>2.5</td>\n",
       "      <td>2.9</td>\n",
       "    </tr>\n",
       "    <tr>\n",
       "      <th>2</th>\n",
       "      <td>Zach Remillard</td>\n",
       "      <td>CHW</td>\n",
       "      <td>147</td>\n",
       "      <td>160</td>\n",
       "      <td>37</td>\n",
       "      <td>1</td>\n",
       "      <td>0</td>\n",
       "      <td>4</td>\n",
       "      <td>3</td>\n",
       "      <td>4</td>\n",
       "      <td>...</td>\n",
       "      <td>89.3</td>\n",
       "      <td>79.8</td>\n",
       "      <td>0.078</td>\n",
       "      <td>84.4</td>\n",
       "      <td>0.010</td>\n",
       "      <td>85.2</td>\n",
       "      <td>-6.2</td>\n",
       "      <td>1.9</td>\n",
       "      <td>0.2</td>\n",
       "      <td>0.2</td>\n",
       "    </tr>\n",
       "    <tr>\n",
       "      <th>3</th>\n",
       "      <td>Zach Neto</td>\n",
       "      <td>LAA</td>\n",
       "      <td>289</td>\n",
       "      <td>329</td>\n",
       "      <td>65</td>\n",
       "      <td>9</td>\n",
       "      <td>3</td>\n",
       "      <td>1</td>\n",
       "      <td>5</td>\n",
       "      <td>5</td>\n",
       "      <td>...</td>\n",
       "      <td>88.8</td>\n",
       "      <td>80.9</td>\n",
       "      <td>0.043</td>\n",
       "      <td>86.1</td>\n",
       "      <td>0.026</td>\n",
       "      <td>87.0</td>\n",
       "      <td>-4.5</td>\n",
       "      <td>-0.4</td>\n",
       "      <td>0.8</td>\n",
       "      <td>1.1</td>\n",
       "    </tr>\n",
       "    <tr>\n",
       "      <th>4</th>\n",
       "      <td>Zach McKinstry</td>\n",
       "      <td>DET</td>\n",
       "      <td>464</td>\n",
       "      <td>518</td>\n",
       "      <td>107</td>\n",
       "      <td>9</td>\n",
       "      <td>3</td>\n",
       "      <td>2</td>\n",
       "      <td>3</td>\n",
       "      <td>16</td>\n",
       "      <td>...</td>\n",
       "      <td>89.5</td>\n",
       "      <td>80.0</td>\n",
       "      <td>0.130</td>\n",
       "      <td>86.3</td>\n",
       "      <td>0.025</td>\n",
       "      <td>87.3</td>\n",
       "      <td>-11.8</td>\n",
       "      <td>1.7</td>\n",
       "      <td>4.5</td>\n",
       "      <td>1.2</td>\n",
       "    </tr>\n",
       "    <tr>\n",
       "      <th>...</th>\n",
       "      <td>...</td>\n",
       "      <td>...</td>\n",
       "      <td>...</td>\n",
       "      <td>...</td>\n",
       "      <td>...</td>\n",
       "      <td>...</td>\n",
       "      <td>...</td>\n",
       "      <td>...</td>\n",
       "      <td>...</td>\n",
       "      <td>...</td>\n",
       "      <td>...</td>\n",
       "      <td>...</td>\n",
       "      <td>...</td>\n",
       "      <td>...</td>\n",
       "      <td>...</td>\n",
       "      <td>...</td>\n",
       "      <td>...</td>\n",
       "      <td>...</td>\n",
       "      <td>...</td>\n",
       "      <td>...</td>\n",
       "      <td>...</td>\n",
       "    </tr>\n",
       "    <tr>\n",
       "      <th>456</th>\n",
       "      <td>Adley Rutschman</td>\n",
       "      <td>BAL</td>\n",
       "      <td>588</td>\n",
       "      <td>687</td>\n",
       "      <td>163</td>\n",
       "      <td>20</td>\n",
       "      <td>5</td>\n",
       "      <td>0</td>\n",
       "      <td>14</td>\n",
       "      <td>1</td>\n",
       "      <td>...</td>\n",
       "      <td>89.0</td>\n",
       "      <td>80.0</td>\n",
       "      <td>0.156</td>\n",
       "      <td>86.0</td>\n",
       "      <td>0.033</td>\n",
       "      <td>86.7</td>\n",
       "      <td>22.3</td>\n",
       "      <td>-3.0</td>\n",
       "      <td>5.1</td>\n",
       "      <td>5.1</td>\n",
       "    </tr>\n",
       "    <tr>\n",
       "      <th>457</th>\n",
       "      <td>Adam Frazier</td>\n",
       "      <td>BAL</td>\n",
       "      <td>412</td>\n",
       "      <td>455</td>\n",
       "      <td>99</td>\n",
       "      <td>13</td>\n",
       "      <td>2</td>\n",
       "      <td>4</td>\n",
       "      <td>4</td>\n",
       "      <td>11</td>\n",
       "      <td>...</td>\n",
       "      <td>89.0</td>\n",
       "      <td>80.0</td>\n",
       "      <td>0.107</td>\n",
       "      <td>86.6</td>\n",
       "      <td>0.030</td>\n",
       "      <td>86.0</td>\n",
       "      <td>-3.8</td>\n",
       "      <td>2.1</td>\n",
       "      <td>-12.0</td>\n",
       "      <td>0.3</td>\n",
       "    </tr>\n",
       "    <tr>\n",
       "      <th>458</th>\n",
       "      <td>Adam Duvall</td>\n",
       "      <td>BOS</td>\n",
       "      <td>320</td>\n",
       "      <td>353</td>\n",
       "      <td>79</td>\n",
       "      <td>21</td>\n",
       "      <td>5</td>\n",
       "      <td>0</td>\n",
       "      <td>0</td>\n",
       "      <td>4</td>\n",
       "      <td>...</td>\n",
       "      <td>89.2</td>\n",
       "      <td>80.4</td>\n",
       "      <td>0.076</td>\n",
       "      <td>85.0</td>\n",
       "      <td>0.025</td>\n",
       "      <td>85.1</td>\n",
       "      <td>6.6</td>\n",
       "      <td>3.0</td>\n",
       "      <td>-2.2</td>\n",
       "      <td>1.9</td>\n",
       "    </tr>\n",
       "    <tr>\n",
       "      <th>459</th>\n",
       "      <td>Aaron Judge</td>\n",
       "      <td>NYY</td>\n",
       "      <td>367</td>\n",
       "      <td>458</td>\n",
       "      <td>98</td>\n",
       "      <td>37</td>\n",
       "      <td>3</td>\n",
       "      <td>0</td>\n",
       "      <td>5</td>\n",
       "      <td>3</td>\n",
       "      <td>...</td>\n",
       "      <td>88.8</td>\n",
       "      <td>80.6</td>\n",
       "      <td>0.117</td>\n",
       "      <td>86.1</td>\n",
       "      <td>0.043</td>\n",
       "      <td>86.9</td>\n",
       "      <td>40.9</td>\n",
       "      <td>1.0</td>\n",
       "      <td>2.1</td>\n",
       "      <td>5.3</td>\n",
       "    </tr>\n",
       "    <tr>\n",
       "      <th>460</th>\n",
       "      <td>Aaron Hicks</td>\n",
       "      <td>BAL</td>\n",
       "      <td>269</td>\n",
       "      <td>312</td>\n",
       "      <td>68</td>\n",
       "      <td>8</td>\n",
       "      <td>1</td>\n",
       "      <td>0</td>\n",
       "      <td>3</td>\n",
       "      <td>6</td>\n",
       "      <td>...</td>\n",
       "      <td>89.4</td>\n",
       "      <td>80.3</td>\n",
       "      <td>0.177</td>\n",
       "      <td>86.1</td>\n",
       "      <td>0.044</td>\n",
       "      <td>86.3</td>\n",
       "      <td>3.5</td>\n",
       "      <td>3.2</td>\n",
       "      <td>-4.8</td>\n",
       "      <td>1.0</td>\n",
       "    </tr>\n",
       "  </tbody>\n",
       "</table>\n",
       "<p>461 rows × 94 columns</p>\n",
       "</div>"
      ],
      "text/plain": [
       "                Name Team   AB   PA    H  HR  SF  SH  GDP  SB  ...   CTv  \\\n",
       "0         Zack Short  DET  221  253   45   7   1   3    3   5  ...  88.8   \n",
       "1         Zack Gelof  OAK  270  300   72  14   1   0    5  14  ...  88.2   \n",
       "2     Zach Remillard  CHW  147  160   37   1   0   4    3   4  ...  89.3   \n",
       "3          Zach Neto  LAA  289  329   65   9   3   1    5   5  ...  88.8   \n",
       "4     Zach McKinstry  DET  464  518  107   9   3   2    3  16  ...  89.5   \n",
       "..               ...  ...  ...  ...  ...  ..  ..  ..  ...  ..  ...   ...   \n",
       "456  Adley Rutschman  BAL  588  687  163  20   5   0   14   1  ...  89.0   \n",
       "457     Adam Frazier  BAL  412  455   99  13   2   4    4  11  ...  89.0   \n",
       "458      Adam Duvall  BOS  320  353   79  21   5   0    0   4  ...  89.2   \n",
       "459      Aaron Judge  NYY  367  458   98  37   3   0    5   3  ...  88.8   \n",
       "460      Aaron Hicks  BAL  269  312   68   8   1   0    3   6  ...  89.4   \n",
       "\n",
       "      CBv    CH%   CHv    SF%   SFv  Batting  Base Running  Fielding  WAR  \n",
       "0    79.1  0.071  84.8  0.006  86.8     -7.4          -0.6      -4.1 -0.2  \n",
       "1    79.8  0.123  85.5  0.018  85.6     11.9           3.3       2.5  2.9  \n",
       "2    79.8  0.078  84.4  0.010  85.2     -6.2           1.9       0.2  0.2  \n",
       "3    80.9  0.043  86.1  0.026  87.0     -4.5          -0.4       0.8  1.1  \n",
       "4    80.0  0.130  86.3  0.025  87.3    -11.8           1.7       4.5  1.2  \n",
       "..    ...    ...   ...    ...   ...      ...           ...       ...  ...  \n",
       "456  80.0  0.156  86.0  0.033  86.7     22.3          -3.0       5.1  5.1  \n",
       "457  80.0  0.107  86.6  0.030  86.0     -3.8           2.1     -12.0  0.3  \n",
       "458  80.4  0.076  85.0  0.025  85.1      6.6           3.0      -2.2  1.9  \n",
       "459  80.6  0.117  86.1  0.043  86.9     40.9           1.0       2.1  5.3  \n",
       "460  80.3  0.177  86.1  0.044  86.3      3.5           3.2      -4.8  1.0  \n",
       "\n",
       "[461 rows x 94 columns]"
      ]
     },
     "execution_count": 184,
     "metadata": {},
     "output_type": "execute_result"
    }
   ],
   "source": [
    "df.drop(['G', '1B', '2B', '3B', 'R', 'RBI', 'BB', 'IBB', 'SO', 'HBP', 'CB%'], axis=1)"
   ]
  },
  {
   "cell_type": "code",
   "execution_count": 185,
   "id": "70c283ea-f7d5-4895-9254-d25ee466693d",
   "metadata": {},
   "outputs": [
    {
     "data": {
      "text/html": [
       "<div>\n",
       "<style scoped>\n",
       "    .dataframe tbody tr th:only-of-type {\n",
       "        vertical-align: middle;\n",
       "    }\n",
       "\n",
       "    .dataframe tbody tr th {\n",
       "        vertical-align: top;\n",
       "    }\n",
       "\n",
       "    .dataframe thead th {\n",
       "        text-align: right;\n",
       "    }\n",
       "</style>\n",
       "<table border=\"1\" class=\"dataframe\">\n",
       "  <thead>\n",
       "    <tr style=\"text-align: right;\">\n",
       "      <th></th>\n",
       "      <th>Name</th>\n",
       "      <th>Team</th>\n",
       "      <th>G</th>\n",
       "      <th>AB</th>\n",
       "      <th>PA</th>\n",
       "      <th>H</th>\n",
       "      <th>1B</th>\n",
       "      <th>2B</th>\n",
       "      <th>3B</th>\n",
       "      <th>HR</th>\n",
       "      <th>...</th>\n",
       "      <th>CB%</th>\n",
       "      <th>CBv</th>\n",
       "      <th>CH%</th>\n",
       "      <th>CHv</th>\n",
       "      <th>SF%</th>\n",
       "      <th>SFv</th>\n",
       "      <th>Batting</th>\n",
       "      <th>Base Running</th>\n",
       "      <th>Fielding</th>\n",
       "      <th>WAR</th>\n",
       "    </tr>\n",
       "  </thead>\n",
       "  <tbody>\n",
       "    <tr>\n",
       "      <th>0</th>\n",
       "      <td>Zack Short</td>\n",
       "      <td>DET</td>\n",
       "      <td>112</td>\n",
       "      <td>221</td>\n",
       "      <td>253</td>\n",
       "      <td>45</td>\n",
       "      <td>29</td>\n",
       "      <td>9</td>\n",
       "      <td>0</td>\n",
       "      <td>7</td>\n",
       "      <td>...</td>\n",
       "      <td>0.073</td>\n",
       "      <td>79.1</td>\n",
       "      <td>0.071</td>\n",
       "      <td>84.8</td>\n",
       "      <td>0.006</td>\n",
       "      <td>86.8</td>\n",
       "      <td>-7.4</td>\n",
       "      <td>-0.6</td>\n",
       "      <td>-4.1</td>\n",
       "      <td>-0.2</td>\n",
       "    </tr>\n",
       "    <tr>\n",
       "      <th>1</th>\n",
       "      <td>Zack Gelof</td>\n",
       "      <td>OAK</td>\n",
       "      <td>69</td>\n",
       "      <td>270</td>\n",
       "      <td>300</td>\n",
       "      <td>72</td>\n",
       "      <td>37</td>\n",
       "      <td>20</td>\n",
       "      <td>1</td>\n",
       "      <td>14</td>\n",
       "      <td>...</td>\n",
       "      <td>0.100</td>\n",
       "      <td>79.8</td>\n",
       "      <td>0.123</td>\n",
       "      <td>85.5</td>\n",
       "      <td>0.018</td>\n",
       "      <td>85.6</td>\n",
       "      <td>11.9</td>\n",
       "      <td>3.3</td>\n",
       "      <td>2.5</td>\n",
       "      <td>2.9</td>\n",
       "    </tr>\n",
       "    <tr>\n",
       "      <th>2</th>\n",
       "      <td>Zach Remillard</td>\n",
       "      <td>CHW</td>\n",
       "      <td>54</td>\n",
       "      <td>147</td>\n",
       "      <td>160</td>\n",
       "      <td>37</td>\n",
       "      <td>29</td>\n",
       "      <td>7</td>\n",
       "      <td>0</td>\n",
       "      <td>1</td>\n",
       "      <td>...</td>\n",
       "      <td>0.092</td>\n",
       "      <td>79.8</td>\n",
       "      <td>0.078</td>\n",
       "      <td>84.4</td>\n",
       "      <td>0.010</td>\n",
       "      <td>85.2</td>\n",
       "      <td>-6.2</td>\n",
       "      <td>1.9</td>\n",
       "      <td>0.2</td>\n",
       "      <td>0.2</td>\n",
       "    </tr>\n",
       "    <tr>\n",
       "      <th>3</th>\n",
       "      <td>Zach Neto</td>\n",
       "      <td>LAA</td>\n",
       "      <td>84</td>\n",
       "      <td>289</td>\n",
       "      <td>329</td>\n",
       "      <td>65</td>\n",
       "      <td>39</td>\n",
       "      <td>17</td>\n",
       "      <td>0</td>\n",
       "      <td>9</td>\n",
       "      <td>...</td>\n",
       "      <td>0.094</td>\n",
       "      <td>80.9</td>\n",
       "      <td>0.043</td>\n",
       "      <td>86.1</td>\n",
       "      <td>0.026</td>\n",
       "      <td>87.0</td>\n",
       "      <td>-4.5</td>\n",
       "      <td>-0.4</td>\n",
       "      <td>0.8</td>\n",
       "      <td>1.1</td>\n",
       "    </tr>\n",
       "    <tr>\n",
       "      <th>4</th>\n",
       "      <td>Zach McKinstry</td>\n",
       "      <td>DET</td>\n",
       "      <td>148</td>\n",
       "      <td>464</td>\n",
       "      <td>518</td>\n",
       "      <td>107</td>\n",
       "      <td>73</td>\n",
       "      <td>21</td>\n",
       "      <td>4</td>\n",
       "      <td>9</td>\n",
       "      <td>...</td>\n",
       "      <td>0.096</td>\n",
       "      <td>80.0</td>\n",
       "      <td>0.130</td>\n",
       "      <td>86.3</td>\n",
       "      <td>0.025</td>\n",
       "      <td>87.3</td>\n",
       "      <td>-11.8</td>\n",
       "      <td>1.7</td>\n",
       "      <td>4.5</td>\n",
       "      <td>1.2</td>\n",
       "    </tr>\n",
       "    <tr>\n",
       "      <th>...</th>\n",
       "      <td>...</td>\n",
       "      <td>...</td>\n",
       "      <td>...</td>\n",
       "      <td>...</td>\n",
       "      <td>...</td>\n",
       "      <td>...</td>\n",
       "      <td>...</td>\n",
       "      <td>...</td>\n",
       "      <td>...</td>\n",
       "      <td>...</td>\n",
       "      <td>...</td>\n",
       "      <td>...</td>\n",
       "      <td>...</td>\n",
       "      <td>...</td>\n",
       "      <td>...</td>\n",
       "      <td>...</td>\n",
       "      <td>...</td>\n",
       "      <td>...</td>\n",
       "      <td>...</td>\n",
       "      <td>...</td>\n",
       "      <td>...</td>\n",
       "    </tr>\n",
       "    <tr>\n",
       "      <th>456</th>\n",
       "      <td>Adley Rutschman</td>\n",
       "      <td>BAL</td>\n",
       "      <td>154</td>\n",
       "      <td>588</td>\n",
       "      <td>687</td>\n",
       "      <td>163</td>\n",
       "      <td>111</td>\n",
       "      <td>31</td>\n",
       "      <td>1</td>\n",
       "      <td>20</td>\n",
       "      <td>...</td>\n",
       "      <td>0.092</td>\n",
       "      <td>80.0</td>\n",
       "      <td>0.156</td>\n",
       "      <td>86.0</td>\n",
       "      <td>0.033</td>\n",
       "      <td>86.7</td>\n",
       "      <td>22.3</td>\n",
       "      <td>-3.0</td>\n",
       "      <td>5.1</td>\n",
       "      <td>5.1</td>\n",
       "    </tr>\n",
       "    <tr>\n",
       "      <th>457</th>\n",
       "      <td>Adam Frazier</td>\n",
       "      <td>BAL</td>\n",
       "      <td>141</td>\n",
       "      <td>412</td>\n",
       "      <td>455</td>\n",
       "      <td>99</td>\n",
       "      <td>63</td>\n",
       "      <td>21</td>\n",
       "      <td>2</td>\n",
       "      <td>13</td>\n",
       "      <td>...</td>\n",
       "      <td>0.073</td>\n",
       "      <td>80.0</td>\n",
       "      <td>0.107</td>\n",
       "      <td>86.6</td>\n",
       "      <td>0.030</td>\n",
       "      <td>86.0</td>\n",
       "      <td>-3.8</td>\n",
       "      <td>2.1</td>\n",
       "      <td>-12.0</td>\n",
       "      <td>0.3</td>\n",
       "    </tr>\n",
       "    <tr>\n",
       "      <th>458</th>\n",
       "      <td>Adam Duvall</td>\n",
       "      <td>BOS</td>\n",
       "      <td>92</td>\n",
       "      <td>320</td>\n",
       "      <td>353</td>\n",
       "      <td>79</td>\n",
       "      <td>32</td>\n",
       "      <td>24</td>\n",
       "      <td>2</td>\n",
       "      <td>21</td>\n",
       "      <td>...</td>\n",
       "      <td>0.096</td>\n",
       "      <td>80.4</td>\n",
       "      <td>0.076</td>\n",
       "      <td>85.0</td>\n",
       "      <td>0.025</td>\n",
       "      <td>85.1</td>\n",
       "      <td>6.6</td>\n",
       "      <td>3.0</td>\n",
       "      <td>-2.2</td>\n",
       "      <td>1.9</td>\n",
       "    </tr>\n",
       "    <tr>\n",
       "      <th>459</th>\n",
       "      <td>Aaron Judge</td>\n",
       "      <td>NYY</td>\n",
       "      <td>106</td>\n",
       "      <td>367</td>\n",
       "      <td>458</td>\n",
       "      <td>98</td>\n",
       "      <td>45</td>\n",
       "      <td>16</td>\n",
       "      <td>0</td>\n",
       "      <td>37</td>\n",
       "      <td>...</td>\n",
       "      <td>0.088</td>\n",
       "      <td>80.6</td>\n",
       "      <td>0.117</td>\n",
       "      <td>86.1</td>\n",
       "      <td>0.043</td>\n",
       "      <td>86.9</td>\n",
       "      <td>40.9</td>\n",
       "      <td>1.0</td>\n",
       "      <td>2.1</td>\n",
       "      <td>5.3</td>\n",
       "    </tr>\n",
       "    <tr>\n",
       "      <th>460</th>\n",
       "      <td>Aaron Hicks</td>\n",
       "      <td>BAL</td>\n",
       "      <td>93</td>\n",
       "      <td>269</td>\n",
       "      <td>312</td>\n",
       "      <td>68</td>\n",
       "      <td>50</td>\n",
       "      <td>9</td>\n",
       "      <td>1</td>\n",
       "      <td>8</td>\n",
       "      <td>...</td>\n",
       "      <td>0.132</td>\n",
       "      <td>80.3</td>\n",
       "      <td>0.177</td>\n",
       "      <td>86.1</td>\n",
       "      <td>0.044</td>\n",
       "      <td>86.3</td>\n",
       "      <td>3.5</td>\n",
       "      <td>3.2</td>\n",
       "      <td>-4.8</td>\n",
       "      <td>1.0</td>\n",
       "    </tr>\n",
       "  </tbody>\n",
       "</table>\n",
       "<p>461 rows × 95 columns</p>\n",
       "</div>"
      ],
      "text/plain": [
       "                Name Team    G   AB   PA    H   1B  2B  3B  HR  ...    CB%  \\\n",
       "0         Zack Short  DET  112  221  253   45   29   9   0   7  ...  0.073   \n",
       "1         Zack Gelof  OAK   69  270  300   72   37  20   1  14  ...  0.100   \n",
       "2     Zach Remillard  CHW   54  147  160   37   29   7   0   1  ...  0.092   \n",
       "3          Zach Neto  LAA   84  289  329   65   39  17   0   9  ...  0.094   \n",
       "4     Zach McKinstry  DET  148  464  518  107   73  21   4   9  ...  0.096   \n",
       "..               ...  ...  ...  ...  ...  ...  ...  ..  ..  ..  ...    ...   \n",
       "456  Adley Rutschman  BAL  154  588  687  163  111  31   1  20  ...  0.092   \n",
       "457     Adam Frazier  BAL  141  412  455   99   63  21   2  13  ...  0.073   \n",
       "458      Adam Duvall  BOS   92  320  353   79   32  24   2  21  ...  0.096   \n",
       "459      Aaron Judge  NYY  106  367  458   98   45  16   0  37  ...  0.088   \n",
       "460      Aaron Hicks  BAL   93  269  312   68   50   9   1   8  ...  0.132   \n",
       "\n",
       "      CBv    CH%   CHv    SF%   SFv  Batting  Base Running  Fielding  WAR  \n",
       "0    79.1  0.071  84.8  0.006  86.8     -7.4          -0.6      -4.1 -0.2  \n",
       "1    79.8  0.123  85.5  0.018  85.6     11.9           3.3       2.5  2.9  \n",
       "2    79.8  0.078  84.4  0.010  85.2     -6.2           1.9       0.2  0.2  \n",
       "3    80.9  0.043  86.1  0.026  87.0     -4.5          -0.4       0.8  1.1  \n",
       "4    80.0  0.130  86.3  0.025  87.3    -11.8           1.7       4.5  1.2  \n",
       "..    ...    ...   ...    ...   ...      ...           ...       ...  ...  \n",
       "456  80.0  0.156  86.0  0.033  86.7     22.3          -3.0       5.1  5.1  \n",
       "457  80.0  0.107  86.6  0.030  86.0     -3.8           2.1     -12.0  0.3  \n",
       "458  80.4  0.076  85.0  0.025  85.1      6.6           3.0      -2.2  1.9  \n",
       "459  80.6  0.117  86.1  0.043  86.9     40.9           1.0       2.1  5.3  \n",
       "460  80.3  0.177  86.1  0.044  86.3      3.5           3.2      -4.8  1.0  \n",
       "\n",
       "[461 rows x 95 columns]"
      ]
     },
     "execution_count": 185,
     "metadata": {},
     "output_type": "execute_result"
    }
   ],
   "source": [
    "df.drop(['BB%', 'K%', 'BB/K', 'OBP', 'SLG', 'ISO', 'BABIP', 'UBR', 'wGDP', 'wSB'], axis=1)"
   ]
  },
  {
   "cell_type": "code",
   "execution_count": 186,
   "id": "6050fde9-f181-493e-a11c-bca048173749",
   "metadata": {},
   "outputs": [
    {
     "data": {
      "text/html": [
       "<div>\n",
       "<style scoped>\n",
       "    .dataframe tbody tr th:only-of-type {\n",
       "        vertical-align: middle;\n",
       "    }\n",
       "\n",
       "    .dataframe tbody tr th {\n",
       "        vertical-align: top;\n",
       "    }\n",
       "\n",
       "    .dataframe thead th {\n",
       "        text-align: right;\n",
       "    }\n",
       "</style>\n",
       "<table border=\"1\" class=\"dataframe\">\n",
       "  <thead>\n",
       "    <tr style=\"text-align: right;\">\n",
       "      <th></th>\n",
       "      <th>Name</th>\n",
       "      <th>Team</th>\n",
       "      <th>HR</th>\n",
       "    </tr>\n",
       "  </thead>\n",
       "  <tbody>\n",
       "    <tr>\n",
       "      <th>0</th>\n",
       "      <td>Zack Short</td>\n",
       "      <td>DET</td>\n",
       "      <td>7</td>\n",
       "    </tr>\n",
       "    <tr>\n",
       "      <th>1</th>\n",
       "      <td>Zack Gelof</td>\n",
       "      <td>OAK</td>\n",
       "      <td>14</td>\n",
       "    </tr>\n",
       "    <tr>\n",
       "      <th>2</th>\n",
       "      <td>Zach Remillard</td>\n",
       "      <td>CHW</td>\n",
       "      <td>1</td>\n",
       "    </tr>\n",
       "    <tr>\n",
       "      <th>3</th>\n",
       "      <td>Zach Neto</td>\n",
       "      <td>LAA</td>\n",
       "      <td>9</td>\n",
       "    </tr>\n",
       "    <tr>\n",
       "      <th>4</th>\n",
       "      <td>Zach McKinstry</td>\n",
       "      <td>DET</td>\n",
       "      <td>9</td>\n",
       "    </tr>\n",
       "  </tbody>\n",
       "</table>\n",
       "</div>"
      ],
      "text/plain": [
       "             Name Team  HR\n",
       "0      Zack Short  DET   7\n",
       "1      Zack Gelof  OAK  14\n",
       "2  Zach Remillard  CHW   1\n",
       "3       Zach Neto  LAA   9\n",
       "4  Zach McKinstry  DET   9"
      ]
     },
     "execution_count": 186,
     "metadata": {},
     "output_type": "execute_result"
    }
   ],
   "source": [
    "columns_to_keep = ['Name', 'Team', 'HR']\n",
    "df = df[columns_to_keep]\n",
    "df.head()"
   ]
  },
  {
   "cell_type": "code",
   "execution_count": 187,
   "id": "49712a58-f9b1-4e73-aadb-7774dfd10dbf",
   "metadata": {},
   "outputs": [
    {
     "data": {
      "text/html": [
       "<div>\n",
       "<style scoped>\n",
       "    .dataframe tbody tr th:only-of-type {\n",
       "        vertical-align: middle;\n",
       "    }\n",
       "\n",
       "    .dataframe tbody tr th {\n",
       "        vertical-align: top;\n",
       "    }\n",
       "\n",
       "    .dataframe thead th {\n",
       "        text-align: right;\n",
       "    }\n",
       "</style>\n",
       "<table border=\"1\" class=\"dataframe\">\n",
       "  <thead>\n",
       "    <tr style=\"text-align: right;\">\n",
       "      <th></th>\n",
       "      <th>Name</th>\n",
       "      <th>Team</th>\n",
       "      <th>HR</th>\n",
       "    </tr>\n",
       "  </thead>\n",
       "  <tbody>\n",
       "    <tr>\n",
       "      <th>0</th>\n",
       "      <td>Zack Short</td>\n",
       "      <td>DET</td>\n",
       "      <td>7</td>\n",
       "    </tr>\n",
       "    <tr>\n",
       "      <th>1</th>\n",
       "      <td>Zack Gelof</td>\n",
       "      <td>OAK</td>\n",
       "      <td>14</td>\n",
       "    </tr>\n",
       "    <tr>\n",
       "      <th>2</th>\n",
       "      <td>Zach Remillard</td>\n",
       "      <td>CHW</td>\n",
       "      <td>1</td>\n",
       "    </tr>\n",
       "    <tr>\n",
       "      <th>3</th>\n",
       "      <td>Zach Neto</td>\n",
       "      <td>LAA</td>\n",
       "      <td>9</td>\n",
       "    </tr>\n",
       "    <tr>\n",
       "      <th>4</th>\n",
       "      <td>Zach McKinstry</td>\n",
       "      <td>DET</td>\n",
       "      <td>9</td>\n",
       "    </tr>\n",
       "    <tr>\n",
       "      <th>5</th>\n",
       "      <td>Yuli Gurriel</td>\n",
       "      <td>MIA</td>\n",
       "      <td>4</td>\n",
       "    </tr>\n",
       "    <tr>\n",
       "      <th>6</th>\n",
       "      <td>Yu Chang</td>\n",
       "      <td>BOS</td>\n",
       "      <td>6</td>\n",
       "    </tr>\n",
       "    <tr>\n",
       "      <th>7</th>\n",
       "      <td>Yordan Alvarez</td>\n",
       "      <td>HOU</td>\n",
       "      <td>31</td>\n",
       "    </tr>\n",
       "    <tr>\n",
       "      <th>8</th>\n",
       "      <td>Yoán Moncada</td>\n",
       "      <td>CHW</td>\n",
       "      <td>11</td>\n",
       "    </tr>\n",
       "    <tr>\n",
       "      <th>9</th>\n",
       "      <td>Yasmani Grandal</td>\n",
       "      <td>CHW</td>\n",
       "      <td>8</td>\n",
       "    </tr>\n",
       "  </tbody>\n",
       "</table>\n",
       "</div>"
      ],
      "text/plain": [
       "              Name Team  HR\n",
       "0       Zack Short  DET   7\n",
       "1       Zack Gelof  OAK  14\n",
       "2   Zach Remillard  CHW   1\n",
       "3        Zach Neto  LAA   9\n",
       "4   Zach McKinstry  DET   9\n",
       "5     Yuli Gurriel  MIA   4\n",
       "6         Yu Chang  BOS   6\n",
       "7   Yordan Alvarez  HOU  31\n",
       "8     Yoán Moncada  CHW  11\n",
       "9  Yasmani Grandal  CHW   8"
      ]
     },
     "execution_count": 187,
     "metadata": {},
     "output_type": "execute_result"
    }
   ],
   "source": [
    "df.head(10)"
   ]
  },
  {
   "cell_type": "code",
   "execution_count": 188,
   "id": "e3a955d0-8b74-46dc-a3ae-dc2f0d669dd1",
   "metadata": {},
   "outputs": [
    {
     "data": {
      "text/html": [
       "<div>\n",
       "<style scoped>\n",
       "    .dataframe tbody tr th:only-of-type {\n",
       "        vertical-align: middle;\n",
       "    }\n",
       "\n",
       "    .dataframe tbody tr th {\n",
       "        vertical-align: top;\n",
       "    }\n",
       "\n",
       "    .dataframe thead th {\n",
       "        text-align: right;\n",
       "    }\n",
       "</style>\n",
       "<table border=\"1\" class=\"dataframe\">\n",
       "  <thead>\n",
       "    <tr style=\"text-align: right;\">\n",
       "      <th></th>\n",
       "      <th>Name</th>\n",
       "      <th>Team</th>\n",
       "      <th>HR</th>\n",
       "    </tr>\n",
       "  </thead>\n",
       "  <tbody>\n",
       "    <tr>\n",
       "      <th>456</th>\n",
       "      <td>Adley Rutschman</td>\n",
       "      <td>BAL</td>\n",
       "      <td>20</td>\n",
       "    </tr>\n",
       "    <tr>\n",
       "      <th>457</th>\n",
       "      <td>Adam Frazier</td>\n",
       "      <td>BAL</td>\n",
       "      <td>13</td>\n",
       "    </tr>\n",
       "    <tr>\n",
       "      <th>458</th>\n",
       "      <td>Adam Duvall</td>\n",
       "      <td>BOS</td>\n",
       "      <td>21</td>\n",
       "    </tr>\n",
       "    <tr>\n",
       "      <th>459</th>\n",
       "      <td>Aaron Judge</td>\n",
       "      <td>NYY</td>\n",
       "      <td>37</td>\n",
       "    </tr>\n",
       "    <tr>\n",
       "      <th>460</th>\n",
       "      <td>Aaron Hicks</td>\n",
       "      <td>BAL</td>\n",
       "      <td>8</td>\n",
       "    </tr>\n",
       "  </tbody>\n",
       "</table>\n",
       "</div>"
      ],
      "text/plain": [
       "                Name Team  HR\n",
       "456  Adley Rutschman  BAL  20\n",
       "457     Adam Frazier  BAL  13\n",
       "458      Adam Duvall  BOS  21\n",
       "459      Aaron Judge  NYY  37\n",
       "460      Aaron Hicks  BAL   8"
      ]
     },
     "execution_count": 188,
     "metadata": {},
     "output_type": "execute_result"
    }
   ],
   "source": [
    "df.tail(5)"
   ]
  },
  {
   "cell_type": "code",
   "execution_count": 189,
   "id": "7f22cd0f-570a-47ee-800d-9e69899c23e8",
   "metadata": {},
   "outputs": [],
   "source": [
    "df = df.sort_values(by='Team')"
   ]
  },
  {
   "cell_type": "code",
   "execution_count": 190,
   "id": "d4dd81c1-0296-45ce-a4bf-d4544472c2a3",
   "metadata": {
    "scrolled": true
   },
   "outputs": [
    {
     "data": {
      "text/html": [
       "<div>\n",
       "<style scoped>\n",
       "    .dataframe tbody tr th:only-of-type {\n",
       "        vertical-align: middle;\n",
       "    }\n",
       "\n",
       "    .dataframe tbody tr th {\n",
       "        vertical-align: top;\n",
       "    }\n",
       "\n",
       "    .dataframe thead th {\n",
       "        text-align: right;\n",
       "    }\n",
       "</style>\n",
       "<table border=\"1\" class=\"dataframe\">\n",
       "  <thead>\n",
       "    <tr style=\"text-align: right;\">\n",
       "      <th></th>\n",
       "      <th>Name</th>\n",
       "      <th>Team</th>\n",
       "      <th>HR</th>\n",
       "    </tr>\n",
       "  </thead>\n",
       "  <tbody>\n",
       "    <tr>\n",
       "      <th>376</th>\n",
       "      <td>Christian Walker</td>\n",
       "      <td>ARI</td>\n",
       "      <td>33</td>\n",
       "    </tr>\n",
       "    <tr>\n",
       "      <th>329</th>\n",
       "      <td>Evan Longoria</td>\n",
       "      <td>ARI</td>\n",
       "      <td>11</td>\n",
       "    </tr>\n",
       "    <tr>\n",
       "      <th>318</th>\n",
       "      <td>Gabriel Moreno</td>\n",
       "      <td>ARI</td>\n",
       "      <td>7</td>\n",
       "    </tr>\n",
       "    <tr>\n",
       "      <th>101</th>\n",
       "      <td>Pavin Smith</td>\n",
       "      <td>ARI</td>\n",
       "      <td>7</td>\n",
       "    </tr>\n",
       "    <tr>\n",
       "      <th>311</th>\n",
       "      <td>Geraldo Perdomo</td>\n",
       "      <td>ARI</td>\n",
       "      <td>6</td>\n",
       "    </tr>\n",
       "  </tbody>\n",
       "</table>\n",
       "</div>"
      ],
      "text/plain": [
       "                 Name Team  HR\n",
       "376  Christian Walker  ARI  33\n",
       "329     Evan Longoria  ARI  11\n",
       "318    Gabriel Moreno  ARI   7\n",
       "101       Pavin Smith  ARI   7\n",
       "311   Geraldo Perdomo  ARI   6"
      ]
     },
     "execution_count": 190,
     "metadata": {},
     "output_type": "execute_result"
    }
   ],
   "source": [
    "df.head()"
   ]
  },
  {
   "cell_type": "code",
   "execution_count": 191,
   "id": "20cdc1f4-d21e-4f6f-9b2c-05f819ceb13e",
   "metadata": {},
   "outputs": [
    {
     "data": {
      "text/html": [
       "<div>\n",
       "<style scoped>\n",
       "    .dataframe tbody tr th:only-of-type {\n",
       "        vertical-align: middle;\n",
       "    }\n",
       "\n",
       "    .dataframe tbody tr th {\n",
       "        vertical-align: top;\n",
       "    }\n",
       "\n",
       "    .dataframe thead th {\n",
       "        text-align: right;\n",
       "    }\n",
       "</style>\n",
       "<table border=\"1\" class=\"dataframe\">\n",
       "  <thead>\n",
       "    <tr style=\"text-align: right;\">\n",
       "      <th></th>\n",
       "      <th>Name</th>\n",
       "      <th>Team</th>\n",
       "      <th>HR</th>\n",
       "    </tr>\n",
       "  </thead>\n",
       "  <tbody>\n",
       "    <tr>\n",
       "      <th>460</th>\n",
       "      <td>Aaron Hicks</td>\n",
       "      <td>BAL</td>\n",
       "      <td>8</td>\n",
       "    </tr>\n",
       "    <tr>\n",
       "      <th>273</th>\n",
       "      <td>Jarren Duran</td>\n",
       "      <td>BOS</td>\n",
       "      <td>8</td>\n",
       "    </tr>\n",
       "    <tr>\n",
       "      <th>215</th>\n",
       "      <td>Justin Turner</td>\n",
       "      <td>BOS</td>\n",
       "      <td>23</td>\n",
       "    </tr>\n",
       "    <tr>\n",
       "      <th>99</th>\n",
       "      <td>Rafael Devers</td>\n",
       "      <td>BOS</td>\n",
       "      <td>33</td>\n",
       "    </tr>\n",
       "    <tr>\n",
       "      <th>170</th>\n",
       "      <td>Masataka Yoshida</td>\n",
       "      <td>BOS</td>\n",
       "      <td>15</td>\n",
       "    </tr>\n",
       "    <tr>\n",
       "      <th>87</th>\n",
       "      <td>Rob Refsnyder</td>\n",
       "      <td>BOS</td>\n",
       "      <td>1</td>\n",
       "    </tr>\n",
       "    <tr>\n",
       "      <th>92</th>\n",
       "      <td>Reese McGuire</td>\n",
       "      <td>BOS</td>\n",
       "      <td>1</td>\n",
       "    </tr>\n",
       "    <tr>\n",
       "      <th>181</th>\n",
       "      <td>Luis Urías</td>\n",
       "      <td>BOS</td>\n",
       "      <td>3</td>\n",
       "    </tr>\n",
       "  </tbody>\n",
       "</table>\n",
       "</div>"
      ],
      "text/plain": [
       "                 Name Team  HR\n",
       "460       Aaron Hicks  BAL   8\n",
       "273      Jarren Duran  BOS   8\n",
       "215     Justin Turner  BOS  23\n",
       "99      Rafael Devers  BOS  33\n",
       "170  Masataka Yoshida  BOS  15\n",
       "87      Rob Refsnyder  BOS   1\n",
       "92      Reese McGuire  BOS   1\n",
       "181        Luis Urías  BOS   3"
      ]
     },
     "execution_count": 191,
     "metadata": {},
     "output_type": "execute_result"
    }
   ],
   "source": [
    "df[42:50]"
   ]
  },
  {
   "cell_type": "code",
   "execution_count": 192,
   "id": "b392cd13-f048-4a44-b907-a7a94b211517",
   "metadata": {},
   "outputs": [],
   "source": [
    "# Building a function to grab the average number of home runs by a player per team.\n",
    "def grab_team_hr(team):\n",
    "    # Grab the Team inserted info\n",
    "    team_data = df[df['Team'] == team]\n",
    "    # Grab the team total home runs\n",
    "    total_hr = team_data['HR'].sum()\n",
    "    # total number of players\n",
    "    total_player = team_data.shape[0]\n",
    "    # average number home runs per team\n",
    "    avg_hr_team = total_hr / total_player\n",
    "    return avg_hr_team"
   ]
  },
  {
   "cell_type": "code",
   "execution_count": 193,
   "id": "e34178a3-dbbf-4722-8677-16979aa4e83d",
   "metadata": {},
   "outputs": [
    {
     "data": {
      "text/plain": [
       "10.6875"
      ]
     },
     "execution_count": 193,
     "metadata": {},
     "output_type": "execute_result"
    }
   ],
   "source": [
    "grab_team_hr('BOS')"
   ]
  },
  {
   "cell_type": "code",
   "execution_count": 194,
   "id": "7adf7217-8f23-4c37-93bd-a73eec2dc025",
   "metadata": {},
   "outputs": [
    {
     "name": "stdout",
     "output_type": "stream",
     "text": [
      "[10.941176470588236]\n"
     ]
    }
   ],
   "source": [
    "# Storing team's average home run by a player into a list\n",
    "avg_hr = []\n",
    "avg_hr.extend([grab_team_hr('ARI')])\n",
    "print(avg_hr)"
   ]
  },
  {
   "cell_type": "code",
   "execution_count": 195,
   "id": "0fbcd2fb-3ecb-4d0e-ae13-b3585ab6a725",
   "metadata": {},
   "outputs": [
    {
     "name": "stdout",
     "output_type": "stream",
     "text": [
      "[10.941176470588236, 25.25, 13.0, 10.6875]\n"
     ]
    }
   ],
   "source": [
    "avg_hr.extend([grab_team_hr('ATL'), grab_team_hr('BAL'), grab_team_hr('BOS')])\n",
    "print(avg_hr)"
   ]
  },
  {
   "cell_type": "code",
   "execution_count": 196,
   "id": "784c1745-99af-4323-8e52-46fed88d2a47",
   "metadata": {},
   "outputs": [
    {
     "name": "stdout",
     "output_type": "stream",
     "text": [
      "[10.941176470588236, 25.25, 13.0, 10.6875, 12.625]\n"
     ]
    }
   ],
   "source": [
    "avg_hr.append(grab_team_hr('CHC'))\n",
    "print(avg_hr)"
   ]
  },
  {
   "cell_type": "code",
   "execution_count": 197,
   "id": "37aa2bb8-2ac6-4746-8d45-ee75277a08c3",
   "metadata": {},
   "outputs": [
    {
     "name": "stdout",
     "output_type": "stream",
     "text": [
      "[10.941176470588236, 25.25, 13.0, 10.6875, 12.625, 10.461538461538462]\n"
     ]
    }
   ],
   "source": [
    "avg_hr.append(grab_team_hr('CHW'))\n",
    "print(avg_hr)"
   ]
  },
  {
   "cell_type": "code",
   "execution_count": 198,
   "id": "62a0130f-d16f-4771-b660-800458e5a87b",
   "metadata": {},
   "outputs": [
    {
     "name": "stdout",
     "output_type": "stream",
     "text": [
      "[10.941176470588236, 25.25, 13.0, 10.6875, 12.625, 10.461538461538462, 11.31578947368421]\n"
     ]
    }
   ],
   "source": [
    "avg_hr.append(grab_team_hr('CIN'))\n",
    "print(avg_hr)"
   ]
  },
  {
   "cell_type": "code",
   "execution_count": 199,
   "id": "9e659c4e-7730-4c27-96dd-cf43a5eb6b3a",
   "metadata": {},
   "outputs": [
    {
     "name": "stdout",
     "output_type": "stream",
     "text": [
      "[10.941176470588236, 25.25, 13.0, 10.6875, 12.625, 10.461538461538462, 11.31578947368421, 7.5]\n"
     ]
    }
   ],
   "source": [
    "avg_hr.append(grab_team_hr('CLE'))\n",
    "print(avg_hr)"
   ]
  },
  {
   "cell_type": "code",
   "execution_count": 200,
   "id": "5f52ec75-37a5-4c33-bc0e-0fc9ab5150f2",
   "metadata": {},
   "outputs": [
    {
     "name": "stdout",
     "output_type": "stream",
     "text": [
      "[10.941176470588236, 25.25, 13.0, 10.6875, 12.625, 10.461538461538462, 11.31578947368421, 7.5, 9.615384615384615]\n"
     ]
    }
   ],
   "source": [
    "avg_hr.append(grab_team_hr('COL'))\n",
    "print(avg_hr)"
   ]
  },
  {
   "cell_type": "code",
   "execution_count": 201,
   "id": "7682b031-7f74-40b3-a073-c4ebb755b2a8",
   "metadata": {},
   "outputs": [
    {
     "name": "stdout",
     "output_type": "stream",
     "text": [
      "[10.941176470588236, 25.25, 13.0, 10.6875, 12.625, 10.461538461538462, 11.31578947368421, 7.5, 9.615384615384615, 9.411764705882353]\n"
     ]
    }
   ],
   "source": [
    "avg_hr.append(grab_team_hr('DET'))\n",
    "print(avg_hr)"
   ]
  },
  {
   "cell_type": "code",
   "execution_count": 202,
   "id": "97688288-0fd0-4dba-a172-e68557663644",
   "metadata": {},
   "outputs": [
    {
     "name": "stdout",
     "output_type": "stream",
     "text": [
      "[10.941176470588236, 25.25, 13.0, 10.6875, 12.625, 10.461538461538462, 11.31578947368421, 7.5, 9.615384615384615, 9.411764705882353, 16.76923076923077]\n"
     ]
    }
   ],
   "source": [
    "avg_hr.append(grab_team_hr('HOU'))\n",
    "print(avg_hr)"
   ]
  },
  {
   "cell_type": "code",
   "execution_count": 203,
   "id": "508afd0b-9d0a-4c81-b9a4-ea3139792841",
   "metadata": {},
   "outputs": [
    {
     "name": "stdout",
     "output_type": "stream",
     "text": [
      "[10.941176470588236, 25.25, 13.0, 10.6875, 12.625, 10.461538461538462, 11.31578947368421, 7.5, 9.615384615384615, 9.411764705882353, 16.76923076923077, 10.733333333333333]\n"
     ]
    }
   ],
   "source": [
    "avg_hr.append(grab_team_hr('KCR'))\n",
    "print(avg_hr)"
   ]
  },
  {
   "cell_type": "code",
   "execution_count": 204,
   "id": "531a69b3-bbc1-4fe0-9543-d9e2514b37db",
   "metadata": {},
   "outputs": [
    {
     "name": "stdout",
     "output_type": "stream",
     "text": [
      "[10.941176470588236, 25.25, 13.0, 10.6875, 12.625, 10.461538461538462, 11.31578947368421, 7.5, 9.615384615384615, 9.411764705882353, 16.76923076923077, 10.733333333333333, 12.555555555555555]\n"
     ]
    }
   ],
   "source": [
    "avg_hr.append(grab_team_hr('LAA'))\n",
    "print(avg_hr)"
   ]
  },
  {
   "cell_type": "code",
   "execution_count": 205,
   "id": "d685ae32-1797-4d49-914d-c6b403a7adf3",
   "metadata": {},
   "outputs": [
    {
     "name": "stdout",
     "output_type": "stream",
     "text": [
      "[10.941176470588236, 25.25, 13.0, 10.6875, 12.625, 10.461538461538462, 11.31578947368421, 7.5, 9.615384615384615, 9.411764705882353, 16.76923076923077, 10.733333333333333, 12.555555555555555, 16.733333333333334]\n"
     ]
    }
   ],
   "source": [
    "avg_hr.append(grab_team_hr('LAD'))\n",
    "print(avg_hr)"
   ]
  },
  {
   "cell_type": "code",
   "execution_count": 206,
   "id": "ee6440ac-cff1-4352-9b2f-6bb2d4cd2fe0",
   "metadata": {},
   "outputs": [
    {
     "name": "stdout",
     "output_type": "stream",
     "text": [
      "[10.941176470588236, 25.25, 13.0, 10.6875, 12.625, 10.461538461538462, 11.31578947368421, 7.5, 9.615384615384615, 9.411764705882353, 16.76923076923077, 10.733333333333333, 12.555555555555555, 16.733333333333334, 11.6875]\n"
     ]
    }
   ],
   "source": [
    "avg_hr.append(grab_team_hr('MIA'))\n",
    "print(avg_hr)"
   ]
  },
  {
   "cell_type": "code",
   "execution_count": 207,
   "id": "664c1256-c1f0-4d28-bd87-636cdeaa8d83",
   "metadata": {},
   "outputs": [
    {
     "name": "stdout",
     "output_type": "stream",
     "text": [
      "[10.941176470588236, 25.25, 13.0, 10.6875, 12.625, 10.461538461538462, 11.31578947368421, 7.5, 9.615384615384615, 9.411764705882353, 16.76923076923077, 10.733333333333333, 12.555555555555555, 16.733333333333334, 11.6875, 10.647058823529411]\n"
     ]
    }
   ],
   "source": [
    "avg_hr.append(grab_team_hr('MIL'))\n",
    "print(avg_hr)"
   ]
  },
  {
   "cell_type": "code",
   "execution_count": 208,
   "id": "a0d24361-3e30-4e7c-b2df-2006203607fe",
   "metadata": {},
   "outputs": [
    {
     "name": "stdout",
     "output_type": "stream",
     "text": [
      "[10.941176470588236, 25.25, 13.0, 10.6875, 12.625, 10.461538461538462, 11.31578947368421, 7.5, 9.615384615384615, 9.411764705882353, 16.76923076923077, 10.733333333333333, 12.555555555555555, 16.733333333333334, 11.6875, 10.647058823529411, 13.352941176470589]\n"
     ]
    }
   ],
   "source": [
    "avg_hr.append(grab_team_hr('MIN'))\n",
    "print(avg_hr)"
   ]
  },
  {
   "cell_type": "code",
   "execution_count": 209,
   "id": "1ab17855-fe14-4057-8e38-1c96c1855bc6",
   "metadata": {},
   "outputs": [
    {
     "name": "stdout",
     "output_type": "stream",
     "text": [
      "[10.941176470588236, 25.25, 13.0, 10.6875, 12.625, 10.461538461538462, 11.31578947368421, 7.5, 9.615384615384615, 9.411764705882353, 16.76923076923077, 10.733333333333333, 12.555555555555555, 16.733333333333334, 11.6875, 10.647058823529411, 13.352941176470589, 13.5]\n"
     ]
    }
   ],
   "source": [
    "avg_hr.append(grab_team_hr('NYM'))\n",
    "print(avg_hr)"
   ]
  },
  {
   "cell_type": "code",
   "execution_count": 210,
   "id": "1af18b62-8857-4119-8a8c-bfd4a434c960",
   "metadata": {},
   "outputs": [
    {
     "name": "stdout",
     "output_type": "stream",
     "text": [
      "[10.941176470588236, 25.25, 13.0, 10.6875, 12.625, 10.461538461538462, 11.31578947368421, 7.5, 9.615384615384615, 9.411764705882353, 16.76923076923077, 10.733333333333333, 12.555555555555555, 16.733333333333334, 11.6875, 10.647058823529411, 13.352941176470589, 13.5, 12.266666666666667]\n"
     ]
    }
   ],
   "source": [
    "avg_hr.append(grab_team_hr('NYY'))\n",
    "print(avg_hr)"
   ]
  },
  {
   "cell_type": "code",
   "execution_count": 211,
   "id": "51561272-f9ba-4e40-88b6-65e53a5c0773",
   "metadata": {},
   "outputs": [
    {
     "name": "stdout",
     "output_type": "stream",
     "text": [
      "[10.941176470588236, 25.25, 13.0, 10.6875, 12.625, 10.461538461538462, 11.31578947368421, 7.5, 9.615384615384615, 9.411764705882353, 16.76923076923077, 10.733333333333333, 12.555555555555555, 16.733333333333334, 11.6875, 10.647058823529411, 13.352941176470589, 13.5, 12.266666666666667, 9.235294117647058]\n"
     ]
    }
   ],
   "source": [
    "avg_hr.append(grab_team_hr('OAK'))\n",
    "print(avg_hr)"
   ]
  },
  {
   "cell_type": "code",
   "execution_count": 213,
   "id": "5cb94fd2-bc61-454d-83e3-1e478ae392be",
   "metadata": {},
   "outputs": [
    {
     "name": "stdout",
     "output_type": "stream",
     "text": [
      "[10.941176470588236, 25.25, 13.0, 10.6875, 12.625, 10.461538461538462, 11.31578947368421, 7.5, 9.615384615384615, 9.411764705882353, 16.76923076923077, 10.733333333333333, 12.555555555555555, 16.733333333333334, 11.6875, 10.647058823529411, 13.352941176470589, 13.5, 12.266666666666667, 9.235294117647058, 14.666666666666666]\n"
     ]
    }
   ],
   "source": [
    "avg_hr.append(grab_team_hr('PHI'))\n",
    "print(avg_hr)"
   ]
  },
  {
   "cell_type": "code",
   "execution_count": 214,
   "id": "deaa6fed-e1de-40ff-b2a9-537479415f2d",
   "metadata": {},
   "outputs": [
    {
     "name": "stdout",
     "output_type": "stream",
     "text": [
      "[10.941176470588236, 25.25, 13.0, 10.6875, 12.625, 10.461538461538462, 11.31578947368421, 7.5, 9.615384615384615, 9.411764705882353, 16.76923076923077, 10.733333333333333, 12.555555555555555, 16.733333333333334, 11.6875, 10.647058823529411, 13.352941176470589, 13.5, 12.266666666666667, 9.235294117647058, 14.666666666666666, 8.0625]\n"
     ]
    }
   ],
   "source": [
    "avg_hr.append(grab_team_hr('PIT'))\n",
    "print(avg_hr)"
   ]
  },
  {
   "cell_type": "code",
   "execution_count": 215,
   "id": "1b8ceff4-2e80-47dc-bb85-6b99621bc42b",
   "metadata": {},
   "outputs": [
    {
     "name": "stdout",
     "output_type": "stream",
     "text": [
      "[10.941176470588236, 25.25, 13.0, 10.6875, 12.625, 10.461538461538462, 11.31578947368421, 7.5, 9.615384615384615, 9.411764705882353, 16.76923076923077, 10.733333333333333, 12.555555555555555, 16.733333333333334, 11.6875, 10.647058823529411, 13.352941176470589, 13.5, 12.266666666666667, 9.235294117647058, 14.666666666666666, 8.0625, 12.555555555555555]\n"
     ]
    }
   ],
   "source": [
    "avg_hr.append(grab_team_hr('SDP'))\n",
    "print(avg_hr)"
   ]
  },
  {
   "cell_type": "code",
   "execution_count": 216,
   "id": "ea75ae34-7741-4661-9b71-bf72cfdd3d3c",
   "metadata": {},
   "outputs": [
    {
     "name": "stdout",
     "output_type": "stream",
     "text": [
      "[10.941176470588236, 25.25, 13.0, 10.6875, 12.625, 10.461538461538462, 11.31578947368421, 7.5, 9.615384615384615, 9.411764705882353, 16.76923076923077, 10.733333333333333, 12.555555555555555, 16.733333333333334, 11.6875, 10.647058823529411, 13.352941176470589, 13.5, 12.266666666666667, 9.235294117647058, 14.666666666666666, 8.0625, 12.555555555555555, 10.444444444444445]\n"
     ]
    }
   ],
   "source": [
    "avg_hr.append(grab_team_hr('SFG'))\n",
    "print(avg_hr)"
   ]
  },
  {
   "cell_type": "code",
   "execution_count": 217,
   "id": "6bafac2d-0c3f-414e-97c2-77f0d947603a",
   "metadata": {},
   "outputs": [
    {
     "name": "stdout",
     "output_type": "stream",
     "text": [
      "[10.941176470588236, 25.25, 13.0, 10.6875, 12.625, 10.461538461538462, 11.31578947368421, 7.5, 9.615384615384615, 9.411764705882353, 16.76923076923077, 10.733333333333333, 12.555555555555555, 16.733333333333334, 11.6875, 10.647058823529411, 13.352941176470589, 13.5, 12.266666666666667, 9.235294117647058, 14.666666666666666, 8.0625, 12.555555555555555, 10.444444444444445, 13.4]\n"
     ]
    }
   ],
   "source": [
    "avg_hr.append(grab_team_hr('SEA'))\n",
    "print(avg_hr)"
   ]
  },
  {
   "cell_type": "code",
   "execution_count": 218,
   "id": "33fc22ea-bb51-4e68-8f9b-56f90db20c18",
   "metadata": {},
   "outputs": [
    {
     "name": "stdout",
     "output_type": "stream",
     "text": [
      "[10.941176470588236, 25.25, 13.0, 10.6875, 12.625, 10.461538461538462, 11.31578947368421, 7.5, 9.615384615384615, 9.411764705882353, 16.76923076923077, 10.733333333333333, 12.555555555555555, 16.733333333333334, 11.6875, 10.647058823529411, 13.352941176470589, 13.5, 12.266666666666667, 9.235294117647058, 14.666666666666666, 8.0625, 12.555555555555555, 10.444444444444445, 13.4, 13.714285714285714]\n"
     ]
    }
   ],
   "source": [
    "avg_hr.append(grab_team_hr('STL'))\n",
    "print(avg_hr)"
   ]
  },
  {
   "cell_type": "code",
   "execution_count": 219,
   "id": "8d86e07e-7185-400c-9adc-2efa36742e68",
   "metadata": {},
   "outputs": [
    {
     "name": "stdout",
     "output_type": "stream",
     "text": [
      "[10.941176470588236, 25.25, 13.0, 10.6875, 12.625, 10.461538461538462, 11.31578947368421, 7.5, 9.615384615384615, 9.411764705882353, 16.76923076923077, 10.733333333333333, 12.555555555555555, 16.733333333333334, 11.6875, 10.647058823529411, 13.352941176470589, 13.5, 12.266666666666667, 9.235294117647058, 14.666666666666666, 8.0625, 12.555555555555555, 10.444444444444445, 13.4, 13.714285714285714, 14.3125]\n"
     ]
    }
   ],
   "source": [
    "avg_hr.append(grab_team_hr('TBR'))\n",
    "print(avg_hr)"
   ]
  },
  {
   "cell_type": "code",
   "execution_count": 220,
   "id": "cc5bb2e3-4af9-48e1-a2bd-d9cba8d485f8",
   "metadata": {},
   "outputs": [
    {
     "name": "stdout",
     "output_type": "stream",
     "text": [
      "[10.941176470588236, 25.25, 13.0, 10.6875, 12.625, 10.461538461538462, 11.31578947368421, 7.5, 9.615384615384615, 9.411764705882353, 16.76923076923077, 10.733333333333333, 12.555555555555555, 16.733333333333334, 11.6875, 10.647058823529411, 13.352941176470589, 13.5, 12.266666666666667, 9.235294117647058, 14.666666666666666, 8.0625, 12.555555555555555, 10.444444444444445, 13.4, 13.714285714285714, 14.3125, 18.583333333333332]\n"
     ]
    }
   ],
   "source": [
    "avg_hr.append(grab_team_hr('TEX'))\n",
    "print(avg_hr)"
   ]
  },
  {
   "cell_type": "code",
   "execution_count": 221,
   "id": "5717adae-3605-486a-88c9-3ae5a711cd9a",
   "metadata": {},
   "outputs": [
    {
     "name": "stdout",
     "output_type": "stream",
     "text": [
      "[10.941176470588236, 25.25, 13.0, 10.6875, 12.625, 10.461538461538462, 11.31578947368421, 7.5, 9.615384615384615, 9.411764705882353, 16.76923076923077, 10.733333333333333, 12.555555555555555, 16.733333333333334, 11.6875, 10.647058823529411, 13.352941176470589, 13.5, 12.266666666666667, 9.235294117647058, 14.666666666666666, 8.0625, 12.555555555555555, 10.444444444444445, 13.4, 13.714285714285714, 14.3125, 18.583333333333332, 14.307692307692308]\n"
     ]
    }
   ],
   "source": [
    "avg_hr.append(grab_team_hr('TOR'))\n",
    "print(avg_hr)"
   ]
  },
  {
   "cell_type": "code",
   "execution_count": 222,
   "id": "af0452db-a5a3-4207-b904-141758366992",
   "metadata": {},
   "outputs": [
    {
     "name": "stdout",
     "output_type": "stream",
     "text": [
      "[10.941176470588236, 25.25, 13.0, 10.6875, 12.625, 10.461538461538462, 11.31578947368421, 7.5, 9.615384615384615, 9.411764705882353, 16.76923076923077, 10.733333333333333, 12.555555555555555, 16.733333333333334, 11.6875, 10.647058823529411, 13.352941176470589, 13.5, 12.266666666666667, 9.235294117647058, 14.666666666666666, 8.0625, 12.555555555555555, 10.444444444444445, 13.4, 13.714285714285714, 14.3125, 18.583333333333332, 14.307692307692308, 9.071428571428571]\n"
     ]
    }
   ],
   "source": [
    "avg_hr.append(grab_team_hr('WSN'))\n",
    "print(avg_hr)"
   ]
  },
  {
   "cell_type": "code",
   "execution_count": 223,
   "id": "6adc09ed-6746-4ffe-9389-341665be4a7f",
   "metadata": {},
   "outputs": [
    {
     "name": "stdout",
     "output_type": "stream",
     "text": [
      "['ARI', 'ATL', 'BAL', 'BOS', 'CHC', 'CHW', 'CIN', 'CLE', 'COL', 'DET', 'HOU', 'KCR', 'LAA', 'LAD', 'MIA', 'MIL', 'MIN', 'NYM', 'NYY', 'OAK', 'PHI', 'PIT', 'SDP', 'SEA', 'SFG', 'STL', 'TBR', 'TEX', 'TOR', 'WSN']\n"
     ]
    }
   ],
   "source": [
    "# team list\n",
    "team_list = ['ARI', 'ATL', 'BAL', 'BOS', 'CHC', 'CHW', 'CIN', 'CLE', 'COL', 'DET',\n",
    "    'HOU', 'KCR', 'LAA', 'LAD', 'MIA', 'MIL', 'MIN', 'NYM', 'NYY', 'OAK',\n",
    "    'PHI', 'PIT', 'SDP', 'SEA', 'SFG', 'STL', 'TBR', 'TEX', 'TOR', 'WSN']\n",
    "print(team_list)"
   ]
  },
  {
   "cell_type": "code",
   "execution_count": 225,
   "id": "5ee07176-c8f0-43e4-918e-7670fa34857b",
   "metadata": {},
   "outputs": [
    {
     "name": "stdout",
     "output_type": "stream",
     "text": [
      "[('ARI', 10.941176470588236), ('ATL', 25.25), ('BAL', 13.0), ('BOS', 10.6875), ('CHC', 12.625), ('CHW', 10.461538461538462), ('CIN', 11.31578947368421), ('CLE', 7.5), ('COL', 9.615384615384615), ('DET', 9.411764705882353), ('HOU', 16.76923076923077), ('KCR', 10.733333333333333), ('LAA', 12.555555555555555), ('LAD', 16.733333333333334), ('MIA', 11.6875), ('MIL', 10.647058823529411), ('MIN', 13.352941176470589), ('NYM', 13.5), ('NYY', 12.266666666666667), ('OAK', 9.235294117647058), ('PHI', 14.666666666666666), ('PIT', 8.0625), ('SDP', 12.555555555555555), ('SEA', 10.444444444444445), ('SFG', 13.4), ('STL', 13.714285714285714), ('TBR', 14.3125), ('TEX', 18.583333333333332), ('TOR', 14.307692307692308), ('WSN', 9.071428571428571)]\n"
     ]
    }
   ],
   "source": [
    "# pairing the the two list to have them match the team name with home runs\n",
    "team_pair = list(zip(team_list, avg_hr))\n",
    "print(team_pair)"
   ]
  },
  {
   "cell_type": "code",
   "execution_count": 231,
   "id": "e8e7c44d-3abc-409a-bee2-773a1c388759",
   "metadata": {},
   "outputs": [
    {
     "data": {
      "image/png": "[encoded data removed]",
      "text/plain": [
       "<Figure size 2000x1000 with 1 Axes>"
      ]
     },
     "metadata": {},
     "output_type": "display_data"
    }
   ],
   "source": [
    "plt.figure(figsize=(20,10))\n",
    "plt.bar(team_list, avg_hr, color = 'lightskyblue')\n",
    "plt.xlabel('MLB Team')\n",
    "plt.ylabel('Number of Home Runs')\n",
    "plt.title('Average number of home runs per player on a MLB Team')\n",
    "plt.show()"
   ]
  },
  {
   "cell_type": "markdown",
   "id": "f7ca9f46-afe6-4570-b495-9b7884eb78c2",
   "metadata": {},
   "source": [
    "# Conclusion on Project\n",
    "### This project I learned a lot of different tools for me to be a good data scientist.\n",
    "* Tools I learned:\n",
    "  * df.head()\n",
    "  * df.tail()\n",
    "  * df.isnull().sum()\n",
    "  * df.duplicated()\n",
    "  * plotting graphs\n",
    "  * and many more\n",
    "### I learned how to proplery import a data set and to be able to use the data functions and finding to represent them visually in a appealing and neat fashion. I look forward to building more projects and continue building my data science skills."
   ]
  }
 ],
 "metadata": {
  "kernelspec": {
   "display_name": "anaconda-2024.02-py310",
   "language": "python",
   "name": "conda-env-anaconda-2024.02-py310-py"
  },
  "language_info": {
   "codemirror_mode": {
    "name": "ipython",
    "version": 3
   },
   "file_extension": ".py",
   "mimetype": "text/x-python",
   "name": "python",
   "nbconvert_exporter": "python",
   "pygments_lexer": "ipython3",
   "version": "3.10.14"
  }
 },
 "nbformat": 4,
 "nbformat_minor": 5
}
